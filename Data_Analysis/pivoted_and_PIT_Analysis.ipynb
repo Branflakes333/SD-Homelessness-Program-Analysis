{
 "cells": [
  {
   "cell_type": "code",
   "execution_count": 1,
   "id": "55fa3a2a-3e9c-40f0-9f25-9b7a30e55542",
   "metadata": {},
   "outputs": [
    {
     "name": "stdout",
     "output_type": "stream",
     "text": [
      "Mean Squared Error: 0.0008784653043647666\n",
      "R^2 Score: 0.9999998666545051\n",
      "Feature Importance:\n",
      " Unsheltered PEH                         738.079463\n",
      "bridge to housing network                -0.000000\n",
      "emergency shelter                         0.000000\n",
      "family reunification program              0.000000\n",
      "flexible funds                           -0.000000\n",
      "food and nutrition                       -0.000000\n",
      "homeless services                        -0.000000\n",
      "homelessness prevention                  -0.000000\n",
      "homeshare program                        -0.000000\n",
      "housing assistance                        0.000000\n",
      "housing navigation services               0.000000\n",
      "housing stability services               -0.000000\n",
      "motel voucher                            -0.000000\n",
      "neighborhood revitalization services     -0.000000\n",
      "opening doors program                    -0.000000\n",
      "outreach                                  0.000000\n",
      "project h.o.p.e.                         -0.000000\n",
      "rapid re housing                          0.000000\n",
      "rental assistance                        -0.000000\n",
      "restrooms                                -0.000000\n",
      "safe parking                              0.000000\n",
      "service center                            0.000000\n",
      "staff and operations                      0.000000\n",
      "take back the streets                    -0.000000\n",
      "transitional housing                      0.000000\n",
      "work for hope                            -0.000000\n",
      "dtype: float64\n"
     ]
    }
   ],
   "source": [
    "import pandas as pd\n",
    "from sklearn.preprocessing import StandardScaler\n",
    "from sklearn.linear_model import Lasso\n",
    "from sklearn.model_selection import train_test_split\n",
    "from sklearn.metrics import mean_squared_error, r2_score\n",
    "\n",
    "# List of columns to drop if they exist in the merged dataframe\n",
    "columns_to_drop = ['City', 'Year', 'Total PEH', 'Population', 'PEH Per 100,000', 'Unsheltered Per 100,000']\n",
    "\n",
    "merged_df = pd.read_csv('../data/processed/pivoted_and_PIT.csv')\n",
    "\n",
    "# Drop columns only if they are in the dataframe\n",
    "X = merged_df.drop(columns=[col for col in columns_to_drop if col in merged_df.columns])\n",
    "\n",
    "# Set response variable and independent variables\n",
    "y = merged_df['Unsheltered PEH']\n",
    "\n",
    "scaler = StandardScaler()\n",
    "X_scaled = scaler.fit_transform(X)\n",
    "\n",
    "X_train, X_test, y_train, y_test = train_test_split(X_scaled, y, test_size=0.2, random_state=42)\n",
    "\n",
    "# Apply Lasso Regression\n",
    "lasso = Lasso(alpha=0.1)  \n",
    "lasso.fit(X_train, y_train)\n",
    "\n",
    "y_pred = lasso.predict(X_test)\n",
    "mse = mean_squared_error(y_test, y_pred)\n",
    "r2 = r2_score(y_test, y_pred)\n",
    "\n",
    "print(\"Mean Squared Error:\", mse)\n",
    "print(\"R^2 Score:\", r2)\n",
    "\n",
    "feature_importance = pd.Series(lasso.coef_, index=X.columns)\n",
    "print(\"Feature Importance:\\n\", feature_importance)\n"
   ]
  },
  {
   "cell_type": "code",
   "execution_count": null,
   "id": "29822e8d-03ee-498c-8735-d5d43e457b32",
   "metadata": {},
   "outputs": [],
   "source": []
  }
 ],
 "metadata": {
  "kernelspec": {
   "display_name": "SDCTA-SD-HPA",
   "language": "python",
   "name": "python3"
  },
  "language_info": {
   "codemirror_mode": {
    "name": "ipython",
    "version": 3
   },
   "file_extension": ".py",
   "mimetype": "text/x-python",
   "name": "python",
   "nbconvert_exporter": "python",
   "pygments_lexer": "ipython3",
   "version": "3.12.4"
  }
 },
 "nbformat": 4,
 "nbformat_minor": 5
}
