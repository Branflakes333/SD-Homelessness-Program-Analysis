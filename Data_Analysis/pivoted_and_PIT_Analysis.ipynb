{
 "cells": [
  {
   "cell_type": "code",
   "execution_count": null,
   "id": "55fa3a2a-3e9c-40f0-9f25-9b7a30e55542",
   "metadata": {},
   "outputs": [
    {
     "name": "stdout",
     "output_type": "stream",
     "text": [
      "Mean Squared Error: 3.3859369367530574\n",
      "R^2 Score: 0.999994015870902\n",
      "Feature Importance:\n",
      " bridge to housing network               1.248526e+00\n",
      "emergency shelter                      -0.000000e+00\n",
      "family reunification program            1.251843e+01\n",
      "flexible funds                         -9.451026e-03\n",
      "food and nutrition                      6.046174e-02\n",
      "homeless services                       0.000000e+00\n",
      "homelessness prevention                 0.000000e+00\n",
      "homeshare program                      -0.000000e+00\n",
      "housing assistance                      3.009696e-01\n",
      "housing navigation services             4.135368e+00\n",
      "housing stability services             -0.000000e+00\n",
      "motel voucher                           1.873554e-01\n",
      "neighborhood revitalization services   -6.340011e-01\n",
      "opening doors program                  -1.142107e-01\n",
      "outreach                                2.505776e-01\n",
      "project h.o.p.e.                       -0.000000e+00\n",
      "rapid re housing                        1.010079e-01\n",
      "rental assistance                      -0.000000e+00\n",
      "restrooms                              -4.731017e-01\n",
      "safe parking                           -1.288174e+01\n",
      "service center                          3.627225e+00\n",
      "staff and operations                   -0.000000e+00\n",
      "take back the streets                   8.938945e-03\n",
      "transitional housing                   -0.000000e+00\n",
      "work for hope                           1.038215e-16\n",
      "Unsheltered PEH                         7.374843e+02\n",
      "dtype: float64\n"
     ]
    }
   ],
   "source": [
    "import pandas as pd\n",
    "from sklearn.preprocessing import StandardScaler\n",
    "from sklearn.linear_model import Lasso\n",
    "from sklearn.model_selection import train_test_split\n",
    "from sklearn.metrics import mean_squared_error, r2_score\n",
    "\n",
    "# List of columns to drop if they exist in the merged dataframe\n",
    "columns_to_drop = ['City', 'Year', 'Total PEH', 'Population', 'PEH Per 100,000', 'Unsheltered Per 100,000']\n",
    "\n",
    "merged_df = pd.read_csv('../data/processed/pivoted_and_PIT.csv')\n",
    "\n",
    "# Drop columns only if they are in the dataframe\n",
    "X = merged_df.drop(columns=[col for col in columns_to_drop if col in merged_df.columns])\n",
    "\n",
    "# Set response variable and independent variables\n",
    "y = merged_df['Unsheltered PEH']\n",
    "\n",
    "scaler = StandardScaler()\n",
    "X_scaled = scaler.fit_transform(X)\n",
    "\n",
    "X_train, X_test, y_train, y_test = train_test_split(X_scaled, y, test_size=0.2, random_state=42)\n",
    "\n",
    "# Apply Lasso Regression\n",
    "lasso = Lasso(alpha=0.1)  \n",
    "lasso.fit(X_train, y_train)\n",
    "\n",
    "y_pred = lasso.predict(X_test)\n",
    "mse = mean_squared_error(y_test, y_pred)\n",
    "r2 = r2_score(y_test, y_pred)\n",
    "\n",
    "print(\"Mean Squared Error:\", mse)\n",
    "print(\"R^2 Score:\", r2)\n",
    "\n",
    "feature_importance = pd.Series(lasso.coef_, index=X.columns)\n",
    "print(\"Feature Importance:\\n\", feature_importance)\n"
   ]
  },
  {
   "cell_type": "code",
   "execution_count": null,
   "id": "29822e8d-03ee-498c-8735-d5d43e457b32",
   "metadata": {},
   "outputs": [],
   "source": []
  }
 ],
 "metadata": {
  "kernelspec": {
   "display_name": "SDCTA-SD-HPA",
   "language": "python",
   "name": "python3"
  },
  "language_info": {
   "codemirror_mode": {
    "name": "ipython",
    "version": 3
   },
   "file_extension": ".py",
   "mimetype": "text/x-python",
   "name": "python",
   "nbconvert_exporter": "python",
   "pygments_lexer": "ipython3",
   "version": "3.12.4"
  }
 },
 "nbformat": 4,
 "nbformat_minor": 5
}
