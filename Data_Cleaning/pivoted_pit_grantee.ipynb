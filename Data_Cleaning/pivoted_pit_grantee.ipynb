{
 "cells": [
  {
   "cell_type": "code",
   "execution_count": 2,
   "id": "4d6a3f1b-ddda-415a-944b-753d435f6706",
   "metadata": {},
   "outputs": [
    {
     "name": "stdout",
     "output_type": "stream",
     "text": [
      "       City  Year  bridge to housing network  emergency shelter  \\\n",
      "0  Carlsbad  2017                        0.0            14896.0   \n",
      "1  Carlsbad  2018                        0.0                0.0   \n",
      "2  Carlsbad  2019                        0.0                0.0   \n",
      "3  Carlsbad  2021                        0.0            52574.0   \n",
      "4  Carlsbad  2022                        0.0           202698.0   \n",
      "\n",
      "   family reunification program  flexible funds  food and nutrition  \\\n",
      "0                           0.0             0.0                 0.0   \n",
      "1                           0.0             0.0                 0.0   \n",
      "2                           0.0             0.0                 0.0   \n",
      "3                           0.0             0.0                 0.0   \n",
      "4                           0.0             0.0                 0.0   \n",
      "\n",
      "   homeless services  homelessness prevention  homeshare program  ...  \\\n",
      "0               0.00                      0.0                0.0  ...   \n",
      "1               0.00                      0.0                0.0  ...   \n",
      "2           20000.00                      0.0                0.0  ...   \n",
      "3          419583.25                      0.0                0.0  ...   \n",
      "4           29825.00                      0.0                0.0  ...   \n",
      "\n",
      "   service center  staff and operations  take back the streets  \\\n",
      "0             0.0                   0.0                    0.0   \n",
      "1             0.0              122472.0                    0.0   \n",
      "2             0.0              122472.0                    0.0   \n",
      "3        204217.0               40000.0                    0.0   \n",
      "4        204217.0              180000.0                    0.0   \n",
      "\n",
      "   transitional housing  work for hope  Total PEH  Unsheltered PEH  \\\n",
      "0                   0.0            0.0        210              152   \n",
      "1                   0.0            0.0        161              102   \n",
      "2                   0.0            0.0        148               94   \n",
      "3                   0.0            0.0        118               75   \n",
      "4                   0.0            0.0        103               60   \n",
      "\n",
      "   Population  PEH Per 100,000  Unsheltered Per 100,000  \n",
      "0      115518       181.789851               131.581225  \n",
      "1      115382       139.536496                88.402004  \n",
      "2      114747       128.979407                81.919353  \n",
      "3      114160       103.363700                65.697267  \n",
      "4      113792        90.516029                52.727784  \n",
      "\n",
      "[5 rows x 32 columns]\n"
     ]
    }
   ],
   "source": [
    "import pandas as pd\n",
    "pivoted_df = pd.read_csv(\"/Users/alyssaesca/Downloads/pivoted_and_pit.csv\")\n",
    "print(pivoted_df.head())\n"
   ]
  },
  {
   "cell_type": "code",
   "execution_count": 4,
   "id": "2a1ef0c3-0c77-489c-ae51-bb6d182083cd",
   "metadata": {},
   "outputs": [
    {
     "name": "stdout",
     "output_type": "stream",
     "text": [
      "         City  Year  Total PEH  Unsheltered PEH  Population  PEH Per 100,000  \\\n",
      "0    El Cajon  2014        711              191      103230       688.753269   \n",
      "1    El Cajon  2014        711              191      103230       688.753269   \n",
      "2    El Cajon  2015        321              218      103527       310.064041   \n",
      "3    El Cajon  2015        321              218      103527       310.064041   \n",
      "4  San Marcos  2015         99               44       94932       104.285173   \n",
      "\n",
      "   Unsheltered Per 100,000                                 Grantee  \\\n",
      "0               185.023733  East County Transitional Living Center   \n",
      "1               185.023733  East County Transitional Living Center   \n",
      "2               210.573087  East County Transitional Living Center   \n",
      "3               210.573087  East County Transitional Living Center   \n",
      "4                46.348966                   North County Lifeline   \n",
      "\n",
      "              Program    Amount    ExpenditureType  \n",
      "0   emergency shelter   75000.0  Crisis Management  \n",
      "1   emergency shelter   75000.0  Crisis Management  \n",
      "2   emergency shelter  120000.0  Crisis Management  \n",
      "3   emergency shelter  120000.0  Crisis Management  \n",
      "4  housing assistance   21600.0         Prevention  \n"
     ]
    }
   ],
   "source": [
    "original_df = pd.read_csv(\"/Users/alyssaesca/Downloads/expenditures_and_pit.csv\")\n",
    "print(original_df.head())"
   ]
  },
  {
   "cell_type": "code",
   "execution_count": 5,
   "id": "0fa56e69-1169-44ce-bd81-8ba1fc89dd0a",
   "metadata": {},
   "outputs": [
    {
     "name": "stdout",
     "output_type": "stream",
     "text": [
      "\n",
      "Merged Data:\n",
      "       City  Year  bridge to housing network  emergency shelter  \\\n",
      "0  Carlsbad  2017                        0.0            14896.0   \n",
      "1  Carlsbad  2018                        0.0                0.0   \n",
      "2  Carlsbad  2018                        0.0                0.0   \n",
      "3  Carlsbad  2018                        0.0                0.0   \n",
      "4  Carlsbad  2019                        0.0                0.0   \n",
      "\n",
      "   family reunification program  flexible funds  food and nutrition  \\\n",
      "0                           0.0             0.0                 0.0   \n",
      "1                           0.0             0.0                 0.0   \n",
      "2                           0.0             0.0                 0.0   \n",
      "3                           0.0             0.0                 0.0   \n",
      "4                           0.0             0.0                 0.0   \n",
      "\n",
      "   homeless services  homelessness prevention  homeshare program  ...  \\\n",
      "0                0.0                      0.0                0.0  ...   \n",
      "1                0.0                      0.0                0.0  ...   \n",
      "2                0.0                      0.0                0.0  ...   \n",
      "3                0.0                      0.0                0.0  ...   \n",
      "4            20000.0                      0.0                0.0  ...   \n",
      "\n",
      "   staff and operations  take back the streets  transitional housing  \\\n",
      "0                   0.0                    0.0                   0.0   \n",
      "1              122472.0                    0.0                   0.0   \n",
      "2              122472.0                    0.0                   0.0   \n",
      "3              122472.0                    0.0                   0.0   \n",
      "4              122472.0                    0.0                   0.0   \n",
      "\n",
      "   work for hope  Total PEH  Unsheltered PEH  Population  PEH Per 100,000  \\\n",
      "0            0.0        210              152      115518       181.789851   \n",
      "1            0.0        161              102      115382       139.536496   \n",
      "2            0.0        161              102      115382       139.536496   \n",
      "3            0.0        161              102      115382       139.536496   \n",
      "4            0.0        148               94      114747       128.979407   \n",
      "\n",
      "   Unsheltered Per 100,000                        Grantee  \n",
      "0               131.581225        Women's Resource Center  \n",
      "1                88.402004                    Urban Corps  \n",
      "2                88.402004              Legal Aid Society  \n",
      "3                88.402004  Interfaith Community Services  \n",
      "4                81.919353        Women's Resource Center  \n",
      "\n",
      "[5 rows x 33 columns]\n"
     ]
    }
   ],
   "source": [
    "# merging datasets to add 'Grantee' as a column on the pivoted dataset that contains pit count\n",
    "try:\n",
    "    merged_df = pivoted_df.merge(original_df[['City', 'Year', 'Grantee']].drop_duplicates(), on=['City', 'Year'], how='left')\n",
    "    print(\"\\nMerged Data:\")\n",
    "    print(merged_df.head())\n",
    "except TypeError as e:\n",
    "    print(\"TypeError:\", e)"
   ]
  },
  {
   "cell_type": "code",
   "execution_count": 6,
   "id": "02dbd879-689a-4b7b-a5e2-72e1a9997500",
   "metadata": {},
   "outputs": [],
   "source": [
    "# moving grantee over to the third row so its more accessible\n",
    "columns = merged_df.columns.tolist()\n",
    "\n",
    "columns.insert(2, columns.pop(columns.index('Grantee'))) \n",
    "merged_df = merged_df[columns] \n",
    "\n",
    "merged_df.to_csv('/Users/alyssaesca/Downloads/pivoted_pit_grantee.csv', index=False)  "
   ]
  }
 ],
 "metadata": {
  "kernelspec": {
   "display_name": "Python 3 (ipykernel)",
   "language": "python",
   "name": "python3"
  },
  "language_info": {
   "codemirror_mode": {
    "name": "ipython",
    "version": 3
   },
   "file_extension": ".py",
   "mimetype": "text/x-python",
   "name": "python",
   "nbconvert_exporter": "python",
   "pygments_lexer": "ipython3",
   "version": "3.12.5"
  }
 },
 "nbformat": 4,
 "nbformat_minor": 5
}
