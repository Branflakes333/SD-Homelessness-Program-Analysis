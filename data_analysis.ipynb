{
 "cells": [
  {
   "cell_type": "code",
   "outputs": [],
   "source": [
    "import pandas as pd\n",
    "import numpy as np\n"
   ],
   "metadata": {
    "collapsed": false,
    "ExecuteTime": {
     "end_time": "2024-10-24T17:09:02.672778Z",
     "start_time": "2024-10-24T17:09:02.670234Z"
    }
   },
   "id": "ad35d63b28589446",
   "execution_count": 18
  },
  {
   "cell_type": "code",
   "outputs": [],
   "source": [
    "# Load the two datasets\n",
    "pitcount_path = 'data/processed/PITCount.csv'\n",
    "updated_dataset_path = 'data/processed/updated_dataset.csv'\n",
    "\n",
    "# Read the CSV files\n",
    "pitcount_df = pd.read_csv(pitcount_path)\n",
    "updated_dataset_df = pd.read_csv(updated_dataset_path)\n"
   ],
   "metadata": {
    "collapsed": false,
    "ExecuteTime": {
     "end_time": "2024-10-24T18:15:01.583753Z",
     "start_time": "2024-10-24T18:15:01.567074Z"
    }
   },
   "id": "b9652c8544453b50",
   "execution_count": 29
  },
  {
   "cell_type": "code",
   "outputs": [
    {
     "data": {
      "text/plain": "     Unique.ID                 Grantor          Grantee            Program  \\\n0          NaN  City of Imperial Beach              NaN                NaN   \n1          NaN  City of Imperial Beach              NaN                NaN   \n2          NaN  City of Imperial Beach              NaN                NaN   \n3          NaN  City of Imperial Beach              NaN                NaN   \n4          NaN  City of Imperial Beach              NaN                NaN   \n...        ...                     ...              ...                ...   \n2026      1066     City of Chula Vista  ONE TIME VENDOR      motel voucher   \n2027       NaN     City of Chula Vista     KIKU GARDENS  rental assistance   \n2028       NaN     City of Chula Vista     KIKU GARDENS  rental assistance   \n2029       NaN     City of Chula Vista     KIKU GARDENS  rental assistance   \n2030       NaN     City of Chula Vista      MARK II, LP  rental assistance   \n\n        Year        Date EndDate  Amount AmendmentNumber     Funding.Agency  \\\n0     2022.0         NaN     NaN     0.0             NaN                NaN   \n1     2021.0         NaN     NaN     0.0             NaN                NaN   \n2     2020.0         NaN     NaN     0.0             NaN                NaN   \n3     2019.0         NaN     NaN     0.0             NaN                NaN   \n4     2018.0         NaN     NaN     0.0             NaN                NaN   \n...      ...         ...     ...     ...             ...                ...   \n2026  2021.0  12/23/2021     NaN   560.3             NaN               CDBG   \n2027  2021.0  12/28/2021     NaN   212.0             NaN               HOME   \n2028  2021.0  12/28/2021     NaN   212.0             NaN               HOME   \n2029  2021.0  12/28/2021     NaN   212.0             NaN               HOME   \n2030  2021.0  12/28/2021     NaN  1668.0             NaN  Housing Authority   \n\n      ... Issued Funding.Type Years Average.By.Year  \\\n0     ...    NaN          NaN   NaN             NaN   \n1     ...    NaN          NaN   NaN             NaN   \n2     ...    NaN          NaN   NaN             NaN   \n3     ...    NaN          NaN   NaN             NaN   \n4     ...    NaN          NaN   NaN             NaN   \n...   ...    ...          ...   ...             ...   \n2026  ...    NaN          NaN   NaN             NaN   \n2027  ...    NaN          NaN   NaN             NaN   \n2028  ...    NaN          NaN   NaN             NaN   \n2029  ...    NaN          NaN   NaN             NaN   \n2030  ...    NaN          NaN   NaN             NaN   \n\n                        City.Year  Population Amount.Per.Capita  \\\n0     City of Imperial Beach|2022         NaN            $0.00    \n1     City of Imperial Beach|2021         NaN            $0.00    \n2     City of Imperial Beach|2020         NaN            $0.00    \n3     City of Imperial Beach|2019         NaN            $0.00    \n4     City of Imperial Beach|2018         NaN            $0.00    \n...                           ...         ...               ...   \n2026                          NaN         NaN               NaN   \n2027                          NaN         NaN               NaN   \n2028                          NaN         NaN               NaN   \n2029                          NaN         NaN               NaN   \n2030                          NaN         NaN               NaN   \n\n     Amount.Per.PEH  Population.PEH    ExpenditureType  \n0            $0.00              0.0      Other/Unknown  \n1            $0.00              0.0      Other/Unknown  \n2            $0.00             16.0      Other/Unknown  \n3            $0.00             12.0      Other/Unknown  \n4            $0.00              7.0      Other/Unknown  \n...             ...             ...                ...  \n2026            NaN             0.0  Crisis Management  \n2027            NaN             0.0         Prevention  \n2028            NaN             0.0         Prevention  \n2029            NaN             0.0         Prevention  \n2030            NaN             0.0         Prevention  \n\n[2031 rows x 23 columns]",
      "text/html": "<div>\n<style scoped>\n    .dataframe tbody tr th:only-of-type {\n        vertical-align: middle;\n    }\n\n    .dataframe tbody tr th {\n        vertical-align: top;\n    }\n\n    .dataframe thead th {\n        text-align: right;\n    }\n</style>\n<table border=\"1\" class=\"dataframe\">\n  <thead>\n    <tr style=\"text-align: right;\">\n      <th></th>\n      <th>Unique.ID</th>\n      <th>Grantor</th>\n      <th>Grantee</th>\n      <th>Program</th>\n      <th>Year</th>\n      <th>Date</th>\n      <th>EndDate</th>\n      <th>Amount</th>\n      <th>AmendmentNumber</th>\n      <th>Funding.Agency</th>\n      <th>...</th>\n      <th>Issued</th>\n      <th>Funding.Type</th>\n      <th>Years</th>\n      <th>Average.By.Year</th>\n      <th>City.Year</th>\n      <th>Population</th>\n      <th>Amount.Per.Capita</th>\n      <th>Amount.Per.PEH</th>\n      <th>Population.PEH</th>\n      <th>ExpenditureType</th>\n    </tr>\n  </thead>\n  <tbody>\n    <tr>\n      <th>0</th>\n      <td>NaN</td>\n      <td>City of Imperial Beach</td>\n      <td>NaN</td>\n      <td>NaN</td>\n      <td>2022.0</td>\n      <td>NaN</td>\n      <td>NaN</td>\n      <td>0.0</td>\n      <td>NaN</td>\n      <td>NaN</td>\n      <td>...</td>\n      <td>NaN</td>\n      <td>NaN</td>\n      <td>NaN</td>\n      <td>NaN</td>\n      <td>City of Imperial Beach|2022</td>\n      <td>NaN</td>\n      <td>$0.00</td>\n      <td>$0.00</td>\n      <td>0.0</td>\n      <td>Other/Unknown</td>\n    </tr>\n    <tr>\n      <th>1</th>\n      <td>NaN</td>\n      <td>City of Imperial Beach</td>\n      <td>NaN</td>\n      <td>NaN</td>\n      <td>2021.0</td>\n      <td>NaN</td>\n      <td>NaN</td>\n      <td>0.0</td>\n      <td>NaN</td>\n      <td>NaN</td>\n      <td>...</td>\n      <td>NaN</td>\n      <td>NaN</td>\n      <td>NaN</td>\n      <td>NaN</td>\n      <td>City of Imperial Beach|2021</td>\n      <td>NaN</td>\n      <td>$0.00</td>\n      <td>$0.00</td>\n      <td>0.0</td>\n      <td>Other/Unknown</td>\n    </tr>\n    <tr>\n      <th>2</th>\n      <td>NaN</td>\n      <td>City of Imperial Beach</td>\n      <td>NaN</td>\n      <td>NaN</td>\n      <td>2020.0</td>\n      <td>NaN</td>\n      <td>NaN</td>\n      <td>0.0</td>\n      <td>NaN</td>\n      <td>NaN</td>\n      <td>...</td>\n      <td>NaN</td>\n      <td>NaN</td>\n      <td>NaN</td>\n      <td>NaN</td>\n      <td>City of Imperial Beach|2020</td>\n      <td>NaN</td>\n      <td>$0.00</td>\n      <td>$0.00</td>\n      <td>16.0</td>\n      <td>Other/Unknown</td>\n    </tr>\n    <tr>\n      <th>3</th>\n      <td>NaN</td>\n      <td>City of Imperial Beach</td>\n      <td>NaN</td>\n      <td>NaN</td>\n      <td>2019.0</td>\n      <td>NaN</td>\n      <td>NaN</td>\n      <td>0.0</td>\n      <td>NaN</td>\n      <td>NaN</td>\n      <td>...</td>\n      <td>NaN</td>\n      <td>NaN</td>\n      <td>NaN</td>\n      <td>NaN</td>\n      <td>City of Imperial Beach|2019</td>\n      <td>NaN</td>\n      <td>$0.00</td>\n      <td>$0.00</td>\n      <td>12.0</td>\n      <td>Other/Unknown</td>\n    </tr>\n    <tr>\n      <th>4</th>\n      <td>NaN</td>\n      <td>City of Imperial Beach</td>\n      <td>NaN</td>\n      <td>NaN</td>\n      <td>2018.0</td>\n      <td>NaN</td>\n      <td>NaN</td>\n      <td>0.0</td>\n      <td>NaN</td>\n      <td>NaN</td>\n      <td>...</td>\n      <td>NaN</td>\n      <td>NaN</td>\n      <td>NaN</td>\n      <td>NaN</td>\n      <td>City of Imperial Beach|2018</td>\n      <td>NaN</td>\n      <td>$0.00</td>\n      <td>$0.00</td>\n      <td>7.0</td>\n      <td>Other/Unknown</td>\n    </tr>\n    <tr>\n      <th>...</th>\n      <td>...</td>\n      <td>...</td>\n      <td>...</td>\n      <td>...</td>\n      <td>...</td>\n      <td>...</td>\n      <td>...</td>\n      <td>...</td>\n      <td>...</td>\n      <td>...</td>\n      <td>...</td>\n      <td>...</td>\n      <td>...</td>\n      <td>...</td>\n      <td>...</td>\n      <td>...</td>\n      <td>...</td>\n      <td>...</td>\n      <td>...</td>\n      <td>...</td>\n      <td>...</td>\n    </tr>\n    <tr>\n      <th>2026</th>\n      <td>1066</td>\n      <td>City of Chula Vista</td>\n      <td>ONE TIME VENDOR</td>\n      <td>motel voucher</td>\n      <td>2021.0</td>\n      <td>12/23/2021</td>\n      <td>NaN</td>\n      <td>560.3</td>\n      <td>NaN</td>\n      <td>CDBG</td>\n      <td>...</td>\n      <td>NaN</td>\n      <td>NaN</td>\n      <td>NaN</td>\n      <td>NaN</td>\n      <td>NaN</td>\n      <td>NaN</td>\n      <td>NaN</td>\n      <td>NaN</td>\n      <td>0.0</td>\n      <td>Crisis Management</td>\n    </tr>\n    <tr>\n      <th>2027</th>\n      <td>NaN</td>\n      <td>City of Chula Vista</td>\n      <td>KIKU GARDENS</td>\n      <td>rental assistance</td>\n      <td>2021.0</td>\n      <td>12/28/2021</td>\n      <td>NaN</td>\n      <td>212.0</td>\n      <td>NaN</td>\n      <td>HOME</td>\n      <td>...</td>\n      <td>NaN</td>\n      <td>NaN</td>\n      <td>NaN</td>\n      <td>NaN</td>\n      <td>NaN</td>\n      <td>NaN</td>\n      <td>NaN</td>\n      <td>NaN</td>\n      <td>0.0</td>\n      <td>Prevention</td>\n    </tr>\n    <tr>\n      <th>2028</th>\n      <td>NaN</td>\n      <td>City of Chula Vista</td>\n      <td>KIKU GARDENS</td>\n      <td>rental assistance</td>\n      <td>2021.0</td>\n      <td>12/28/2021</td>\n      <td>NaN</td>\n      <td>212.0</td>\n      <td>NaN</td>\n      <td>HOME</td>\n      <td>...</td>\n      <td>NaN</td>\n      <td>NaN</td>\n      <td>NaN</td>\n      <td>NaN</td>\n      <td>NaN</td>\n      <td>NaN</td>\n      <td>NaN</td>\n      <td>NaN</td>\n      <td>0.0</td>\n      <td>Prevention</td>\n    </tr>\n    <tr>\n      <th>2029</th>\n      <td>NaN</td>\n      <td>City of Chula Vista</td>\n      <td>KIKU GARDENS</td>\n      <td>rental assistance</td>\n      <td>2021.0</td>\n      <td>12/28/2021</td>\n      <td>NaN</td>\n      <td>212.0</td>\n      <td>NaN</td>\n      <td>HOME</td>\n      <td>...</td>\n      <td>NaN</td>\n      <td>NaN</td>\n      <td>NaN</td>\n      <td>NaN</td>\n      <td>NaN</td>\n      <td>NaN</td>\n      <td>NaN</td>\n      <td>NaN</td>\n      <td>0.0</td>\n      <td>Prevention</td>\n    </tr>\n    <tr>\n      <th>2030</th>\n      <td>NaN</td>\n      <td>City of Chula Vista</td>\n      <td>MARK II, LP</td>\n      <td>rental assistance</td>\n      <td>2021.0</td>\n      <td>12/28/2021</td>\n      <td>NaN</td>\n      <td>1668.0</td>\n      <td>NaN</td>\n      <td>Housing Authority</td>\n      <td>...</td>\n      <td>NaN</td>\n      <td>NaN</td>\n      <td>NaN</td>\n      <td>NaN</td>\n      <td>NaN</td>\n      <td>NaN</td>\n      <td>NaN</td>\n      <td>NaN</td>\n      <td>0.0</td>\n      <td>Prevention</td>\n    </tr>\n  </tbody>\n</table>\n<p>2031 rows × 23 columns</p>\n</div>"
     },
     "execution_count": 33,
     "metadata": {},
     "output_type": "execute_result"
    }
   ],
   "source": [
    "# Clean and process the 'Amount' and 'Population.PEH' columns for analysis.\n",
    "updated_dataset_df['Amount'] = updated_dataset_df['Amount'].replace('[\\$,]', '', regex=True).astype(float)\n",
    "updated_dataset_df['Population.PEH'] = updated_dataset_df['Population.PEH'].fillna(0)\n",
    "updated_dataset_df"
   ],
   "metadata": {
    "collapsed": false,
    "ExecuteTime": {
     "end_time": "2024-10-24T18:18:25.072114Z",
     "start_time": "2024-10-24T18:18:25.050934Z"
    }
   },
   "id": "f168daf2d083e1d8",
   "execution_count": 33
  },
  {
   "cell_type": "code",
   "outputs": [],
   "source": [
    "# Group by Program to calculate total funding and population served\n",
    "program_effectiveness = updated_dataset_df.groupby('Program').agg({\n",
    "    'Amount': 'sum',\n",
    "    'Population.PEH': 'sum'\n",
    "}).reset_index()"
   ],
   "metadata": {
    "collapsed": false,
    "ExecuteTime": {
     "end_time": "2024-10-24T18:15:30.521219Z",
     "start_time": "2024-10-24T18:15:30.516615Z"
    }
   },
   "id": "21f7f375cfaf9e62",
   "execution_count": 31
  },
  {
   "cell_type": "code",
   "outputs": [
    {
     "ename": "KeyError",
     "evalue": "'Amount.Per.PEH'",
     "output_type": "error",
     "traceback": [
      "\u001B[0;31m---------------------------------------------------------------------------\u001B[0m",
      "\u001B[0;31mKeyError\u001B[0m                                  Traceback (most recent call last)",
      "File \u001B[0;32m~/Documents/GitHub/SD-Homelessness-Program-Analysis/.venv/lib/python3.9/site-packages/pandas/core/indexes/base.py:3805\u001B[0m, in \u001B[0;36mIndex.get_loc\u001B[0;34m(self, key)\u001B[0m\n\u001B[1;32m   3804\u001B[0m \u001B[38;5;28;01mtry\u001B[39;00m:\n\u001B[0;32m-> 3805\u001B[0m     \u001B[38;5;28;01mreturn\u001B[39;00m \u001B[38;5;28;43mself\u001B[39;49m\u001B[38;5;241;43m.\u001B[39;49m\u001B[43m_engine\u001B[49m\u001B[38;5;241;43m.\u001B[39;49m\u001B[43mget_loc\u001B[49m\u001B[43m(\u001B[49m\u001B[43mcasted_key\u001B[49m\u001B[43m)\u001B[49m\n\u001B[1;32m   3806\u001B[0m \u001B[38;5;28;01mexcept\u001B[39;00m \u001B[38;5;167;01mKeyError\u001B[39;00m \u001B[38;5;28;01mas\u001B[39;00m err:\n",
      "File \u001B[0;32mindex.pyx:167\u001B[0m, in \u001B[0;36mpandas._libs.index.IndexEngine.get_loc\u001B[0;34m()\u001B[0m\n",
      "File \u001B[0;32mindex.pyx:196\u001B[0m, in \u001B[0;36mpandas._libs.index.IndexEngine.get_loc\u001B[0;34m()\u001B[0m\n",
      "File \u001B[0;32mpandas/_libs/hashtable_class_helper.pxi:7081\u001B[0m, in \u001B[0;36mpandas._libs.hashtable.PyObjectHashTable.get_item\u001B[0;34m()\u001B[0m\n",
      "File \u001B[0;32mpandas/_libs/hashtable_class_helper.pxi:7089\u001B[0m, in \u001B[0;36mpandas._libs.hashtable.PyObjectHashTable.get_item\u001B[0;34m()\u001B[0m\n",
      "\u001B[0;31mKeyError\u001B[0m: 'Amount.Per.PEH'",
      "\nThe above exception was the direct cause of the following exception:\n",
      "\u001B[0;31mKeyError\u001B[0m                                  Traceback (most recent call last)",
      "Cell \u001B[0;32mIn[32], line 2\u001B[0m\n\u001B[1;32m      1\u001B[0m \u001B[38;5;66;03m# Sort programs by Amount per PEH served: lower values are more effective\u001B[39;00m\n\u001B[0;32m----> 2\u001B[0m most_effective_programs \u001B[38;5;241m=\u001B[39m \u001B[43mprogram_effectiveness\u001B[49m\u001B[38;5;241;43m.\u001B[39;49m\u001B[43mnsmallest\u001B[49m\u001B[43m(\u001B[49m\u001B[38;5;241;43m3\u001B[39;49m\u001B[43m,\u001B[49m\u001B[43m \u001B[49m\u001B[38;5;124;43m'\u001B[39;49m\u001B[38;5;124;43mAmount.Per.PEH\u001B[39;49m\u001B[38;5;124;43m'\u001B[39;49m\u001B[43m)\u001B[49m\n\u001B[1;32m      3\u001B[0m least_effective_programs \u001B[38;5;241m=\u001B[39m program_effectiveness\u001B[38;5;241m.\u001B[39mnlargest(\u001B[38;5;241m3\u001B[39m, \u001B[38;5;124m'\u001B[39m\u001B[38;5;124mAmount.Per.PEH\u001B[39m\u001B[38;5;124m'\u001B[39m)\n\u001B[1;32m      5\u001B[0m \u001B[38;5;66;03m# Output the most and least effective programs\u001B[39;00m\n",
      "File \u001B[0;32m~/Documents/GitHub/SD-Homelessness-Program-Analysis/.venv/lib/python3.9/site-packages/pandas/core/frame.py:7756\u001B[0m, in \u001B[0;36mDataFrame.nsmallest\u001B[0;34m(self, n, columns, keep)\u001B[0m\n\u001B[1;32m   7646\u001B[0m \u001B[38;5;28;01mdef\u001B[39;00m \u001B[38;5;21mnsmallest\u001B[39m(\n\u001B[1;32m   7647\u001B[0m     \u001B[38;5;28mself\u001B[39m, n: \u001B[38;5;28mint\u001B[39m, columns: IndexLabel, keep: NsmallestNlargestKeep \u001B[38;5;241m=\u001B[39m \u001B[38;5;124m\"\u001B[39m\u001B[38;5;124mfirst\u001B[39m\u001B[38;5;124m\"\u001B[39m\n\u001B[1;32m   7648\u001B[0m ) \u001B[38;5;241m-\u001B[39m\u001B[38;5;241m>\u001B[39m DataFrame:\n\u001B[1;32m   7649\u001B[0m \u001B[38;5;250m    \u001B[39m\u001B[38;5;124;03m\"\"\"\u001B[39;00m\n\u001B[1;32m   7650\u001B[0m \u001B[38;5;124;03m    Return the first `n` rows ordered by `columns` in ascending order.\u001B[39;00m\n\u001B[1;32m   7651\u001B[0m \n\u001B[0;32m   (...)\u001B[0m\n\u001B[1;32m   7754\u001B[0m \u001B[38;5;124;03m    Nauru         337000  182      NR\u001B[39;00m\n\u001B[1;32m   7755\u001B[0m \u001B[38;5;124;03m    \"\"\"\u001B[39;00m\n\u001B[0;32m-> 7756\u001B[0m     \u001B[38;5;28;01mreturn\u001B[39;00m \u001B[43mselectn\u001B[49m\u001B[38;5;241;43m.\u001B[39;49m\u001B[43mSelectNFrame\u001B[49m\u001B[43m(\u001B[49m\u001B[38;5;28;43mself\u001B[39;49m\u001B[43m,\u001B[49m\u001B[43m \u001B[49m\u001B[43mn\u001B[49m\u001B[38;5;241;43m=\u001B[39;49m\u001B[43mn\u001B[49m\u001B[43m,\u001B[49m\u001B[43m \u001B[49m\u001B[43mkeep\u001B[49m\u001B[38;5;241;43m=\u001B[39;49m\u001B[43mkeep\u001B[49m\u001B[43m,\u001B[49m\u001B[43m \u001B[49m\u001B[43mcolumns\u001B[49m\u001B[38;5;241;43m=\u001B[39;49m\u001B[43mcolumns\u001B[49m\u001B[43m)\u001B[49m\u001B[38;5;241;43m.\u001B[39;49m\u001B[43mnsmallest\u001B[49m\u001B[43m(\u001B[49m\u001B[43m)\u001B[49m\n",
      "File \u001B[0;32m~/Documents/GitHub/SD-Homelessness-Program-Analysis/.venv/lib/python3.9/site-packages/pandas/core/methods/selectn.py:61\u001B[0m, in \u001B[0;36mSelectN.nsmallest\u001B[0;34m(self)\u001B[0m\n\u001B[1;32m     59\u001B[0m \u001B[38;5;129m@final\u001B[39m\n\u001B[1;32m     60\u001B[0m \u001B[38;5;28;01mdef\u001B[39;00m \u001B[38;5;21mnsmallest\u001B[39m(\u001B[38;5;28mself\u001B[39m):\n\u001B[0;32m---> 61\u001B[0m     \u001B[38;5;28;01mreturn\u001B[39;00m \u001B[38;5;28;43mself\u001B[39;49m\u001B[38;5;241;43m.\u001B[39;49m\u001B[43mcompute\u001B[49m\u001B[43m(\u001B[49m\u001B[38;5;124;43m\"\u001B[39;49m\u001B[38;5;124;43mnsmallest\u001B[39;49m\u001B[38;5;124;43m\"\u001B[39;49m\u001B[43m)\u001B[49m\n",
      "File \u001B[0;32m~/Documents/GitHub/SD-Homelessness-Program-Analysis/.venv/lib/python3.9/site-packages/pandas/core/methods/selectn.py:199\u001B[0m, in \u001B[0;36mSelectNFrame.compute\u001B[0;34m(self, method)\u001B[0m\n\u001B[1;32m    196\u001B[0m columns \u001B[38;5;241m=\u001B[39m \u001B[38;5;28mself\u001B[39m\u001B[38;5;241m.\u001B[39mcolumns\n\u001B[1;32m    198\u001B[0m \u001B[38;5;28;01mfor\u001B[39;00m column \u001B[38;5;129;01min\u001B[39;00m columns:\n\u001B[0;32m--> 199\u001B[0m     dtype \u001B[38;5;241m=\u001B[39m \u001B[43mframe\u001B[49m\u001B[43m[\u001B[49m\u001B[43mcolumn\u001B[49m\u001B[43m]\u001B[49m\u001B[38;5;241m.\u001B[39mdtype\n\u001B[1;32m    200\u001B[0m     \u001B[38;5;28;01mif\u001B[39;00m \u001B[38;5;129;01mnot\u001B[39;00m \u001B[38;5;28mself\u001B[39m\u001B[38;5;241m.\u001B[39mis_valid_dtype_n_method(dtype):\n\u001B[1;32m    201\u001B[0m         \u001B[38;5;28;01mraise\u001B[39;00m \u001B[38;5;167;01mTypeError\u001B[39;00m(\n\u001B[1;32m    202\u001B[0m             \u001B[38;5;124mf\u001B[39m\u001B[38;5;124m\"\u001B[39m\u001B[38;5;124mColumn \u001B[39m\u001B[38;5;132;01m{\u001B[39;00m\u001B[38;5;28mrepr\u001B[39m(column)\u001B[38;5;132;01m}\u001B[39;00m\u001B[38;5;124m has dtype \u001B[39m\u001B[38;5;132;01m{\u001B[39;00mdtype\u001B[38;5;132;01m}\u001B[39;00m\u001B[38;5;124m, \u001B[39m\u001B[38;5;124m\"\u001B[39m\n\u001B[1;32m    203\u001B[0m             \u001B[38;5;124mf\u001B[39m\u001B[38;5;124m\"\u001B[39m\u001B[38;5;124mcannot use method \u001B[39m\u001B[38;5;132;01m{\u001B[39;00m\u001B[38;5;28mrepr\u001B[39m(method)\u001B[38;5;132;01m}\u001B[39;00m\u001B[38;5;124m with this dtype\u001B[39m\u001B[38;5;124m\"\u001B[39m\n\u001B[1;32m    204\u001B[0m         )\n",
      "File \u001B[0;32m~/Documents/GitHub/SD-Homelessness-Program-Analysis/.venv/lib/python3.9/site-packages/pandas/core/frame.py:4102\u001B[0m, in \u001B[0;36mDataFrame.__getitem__\u001B[0;34m(self, key)\u001B[0m\n\u001B[1;32m   4100\u001B[0m \u001B[38;5;28;01mif\u001B[39;00m \u001B[38;5;28mself\u001B[39m\u001B[38;5;241m.\u001B[39mcolumns\u001B[38;5;241m.\u001B[39mnlevels \u001B[38;5;241m>\u001B[39m \u001B[38;5;241m1\u001B[39m:\n\u001B[1;32m   4101\u001B[0m     \u001B[38;5;28;01mreturn\u001B[39;00m \u001B[38;5;28mself\u001B[39m\u001B[38;5;241m.\u001B[39m_getitem_multilevel(key)\n\u001B[0;32m-> 4102\u001B[0m indexer \u001B[38;5;241m=\u001B[39m \u001B[38;5;28;43mself\u001B[39;49m\u001B[38;5;241;43m.\u001B[39;49m\u001B[43mcolumns\u001B[49m\u001B[38;5;241;43m.\u001B[39;49m\u001B[43mget_loc\u001B[49m\u001B[43m(\u001B[49m\u001B[43mkey\u001B[49m\u001B[43m)\u001B[49m\n\u001B[1;32m   4103\u001B[0m \u001B[38;5;28;01mif\u001B[39;00m is_integer(indexer):\n\u001B[1;32m   4104\u001B[0m     indexer \u001B[38;5;241m=\u001B[39m [indexer]\n",
      "File \u001B[0;32m~/Documents/GitHub/SD-Homelessness-Program-Analysis/.venv/lib/python3.9/site-packages/pandas/core/indexes/base.py:3812\u001B[0m, in \u001B[0;36mIndex.get_loc\u001B[0;34m(self, key)\u001B[0m\n\u001B[1;32m   3807\u001B[0m     \u001B[38;5;28;01mif\u001B[39;00m \u001B[38;5;28misinstance\u001B[39m(casted_key, \u001B[38;5;28mslice\u001B[39m) \u001B[38;5;129;01mor\u001B[39;00m (\n\u001B[1;32m   3808\u001B[0m         \u001B[38;5;28misinstance\u001B[39m(casted_key, abc\u001B[38;5;241m.\u001B[39mIterable)\n\u001B[1;32m   3809\u001B[0m         \u001B[38;5;129;01mand\u001B[39;00m \u001B[38;5;28many\u001B[39m(\u001B[38;5;28misinstance\u001B[39m(x, \u001B[38;5;28mslice\u001B[39m) \u001B[38;5;28;01mfor\u001B[39;00m x \u001B[38;5;129;01min\u001B[39;00m casted_key)\n\u001B[1;32m   3810\u001B[0m     ):\n\u001B[1;32m   3811\u001B[0m         \u001B[38;5;28;01mraise\u001B[39;00m InvalidIndexError(key)\n\u001B[0;32m-> 3812\u001B[0m     \u001B[38;5;28;01mraise\u001B[39;00m \u001B[38;5;167;01mKeyError\u001B[39;00m(key) \u001B[38;5;28;01mfrom\u001B[39;00m \u001B[38;5;21;01merr\u001B[39;00m\n\u001B[1;32m   3813\u001B[0m \u001B[38;5;28;01mexcept\u001B[39;00m \u001B[38;5;167;01mTypeError\u001B[39;00m:\n\u001B[1;32m   3814\u001B[0m     \u001B[38;5;66;03m# If we have a listlike key, _check_indexing_error will raise\u001B[39;00m\n\u001B[1;32m   3815\u001B[0m     \u001B[38;5;66;03m#  InvalidIndexError. Otherwise we fall through and re-raise\u001B[39;00m\n\u001B[1;32m   3816\u001B[0m     \u001B[38;5;66;03m#  the TypeError.\u001B[39;00m\n\u001B[1;32m   3817\u001B[0m     \u001B[38;5;28mself\u001B[39m\u001B[38;5;241m.\u001B[39m_check_indexing_error(key)\n",
      "\u001B[0;31mKeyError\u001B[0m: 'Amount.Per.PEH'"
     ]
    }
   ],
   "source": [
    "# Sort programs by Amount per PEH served: lower values are more effective\n",
    "most_effective_programs = program_effectiveness.nsmallest(3, 'Amount.Per.PEH')\n",
    "least_effective_programs = program_effectiveness.nlargest(3, 'Amount.Per.PEH')\n",
    "\n",
    "# Output the most and least effective programs\n",
    "print(\"Most Effective Programs (Lowest Cost per PEH):\")\n",
    "print(most_effective_programs)\n",
    "\n",
    "print(\"\\nLeast Effective Programs (Highest Cost per PEH):\")\n",
    "print(least_effective_programs)"
   ],
   "metadata": {
    "collapsed": false,
    "ExecuteTime": {
     "end_time": "2024-10-24T18:15:37.903759Z",
     "start_time": "2024-10-24T18:15:37.357591Z"
    }
   },
   "id": "bae837c512743063",
   "execution_count": 32
  },
  {
   "cell_type": "code",
   "outputs": [],
   "source": [],
   "metadata": {
    "collapsed": false
   },
   "id": "d1cc392bb9659a78"
  }
 ],
 "metadata": {
  "kernelspec": {
   "display_name": "Python 3",
   "language": "python",
   "name": "python3"
  },
  "language_info": {
   "codemirror_mode": {
    "name": "ipython",
    "version": 2
   },
   "file_extension": ".py",
   "mimetype": "text/x-python",
   "name": "python",
   "nbconvert_exporter": "python",
   "pygments_lexer": "ipython2",
   "version": "2.7.6"
  }
 },
 "nbformat": 4,
 "nbformat_minor": 5
}
